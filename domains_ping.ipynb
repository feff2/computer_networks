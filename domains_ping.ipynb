{
 "cells": [
  {
   "cell_type": "code",
   "execution_count": 1,
   "id": "aa98b3d7-2921-442a-9e02-a79e334fe317",
   "metadata": {
    "tags": []
   },
   "outputs": [],
   "source": [
    "import csv\n",
    "import os"
   ]
  },
  {
   "cell_type": "code",
   "execution_count": 5,
   "id": "1f614624-ffd7-4aa2-9d91-d550fac70ee5",
   "metadata": {
    "tags": []
   },
   "outputs": [],
   "source": [
    "domains = [\"yandex.ru\", \"NSU.ru\", \"google.ru\", \"vk.com\", \"mail.google.com\", \"mechhub.ru\", \"youtube.com\", \"mail.ru\", \"twitch.tv\", \"github.com\"]\n"
   ]
  },
  {
   "cell_type": "code",
   "execution_count": 6,
   "id": "b81af65c-ecf8-4be9-8214-d9d023a1df9e",
   "metadata": {
    "tags": []
   },
   "outputs": [],
   "source": [
    "from ping3 import ping\n",
    "\n",
    "results = []\n",
    "\n",
    "for domain in domains:\n",
    "    response_time = ping(domain)\n",
    "    results.append({\"Domain\": domain, \"ResponseTime\": response_time})"
   ]
  },
  {
   "cell_type": "code",
   "execution_count": 7,
   "id": "db4b46fd-784f-4930-b7c5-f14e91ebd8ea",
   "metadata": {
    "tags": []
   },
   "outputs": [],
   "source": [
    "csv_file = \"ping_results.csv\"\n",
    "\n",
    "with open(csv_file, mode='w', newline='') as file:\n",
    "    writer = csv.DictWriter(file, fieldnames=[\"Domain\", \"ResponseTime\"])\n",
    "    writer.writeheader()\n",
    "    for result in results:\n",
    "        writer.writerow(result)"
   ]
  },
  {
   "cell_type": "code",
   "execution_count": null,
   "id": "871efaa6-c1af-4f2c-ba64-be3e0155b88d",
   "metadata": {},
   "outputs": [],
   "source": []
  }
 ],
 "metadata": {
  "kernelspec": {
   "display_name": "Python 3 (ipykernel)",
   "language": "python",
   "name": "python3"
  },
  "language_info": {
   "codemirror_mode": {
    "name": "ipython",
    "version": 3
   },
   "file_extension": ".py",
   "mimetype": "text/x-python",
   "name": "python",
   "nbconvert_exporter": "python",
   "pygments_lexer": "ipython3",
   "version": "3.11.5"
  }
 },
 "nbformat": 4,
 "nbformat_minor": 5
}
